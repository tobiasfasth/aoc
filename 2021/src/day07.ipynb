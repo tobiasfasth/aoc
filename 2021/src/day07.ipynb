{
 "cells": [
  {
   "cell_type": "code",
   "execution_count": null,
   "metadata": {},
   "outputs": [],
   "source": [
    "# part 1\n",
    "import statistics\n",
    "\n",
    "f = open('../data/day07.txt', 'r')\n",
    "pos = list(map(int, f.readline().strip().split(\",\")))\n",
    "\n",
    "median_pos = statistics.median(pos)\n",
    "mean_pos = statistics.median(pos)\n",
    "\n",
    "med = [median_pos for x in range(len(pos))]\n",
    "diff = [abs(x-y) for x, y in zip(pos,med)]\n",
    "\n",
    "print('Part 1:', sum(diff))"
   ]
  },
  {
   "cell_type": "code",
   "execution_count": null,
   "metadata": {},
   "outputs": [],
   "source": [
    "# part 2\n",
    "import statistics\n",
    "import math\n",
    "import sys\n",
    "\n",
    "f = open('../data/day07.txt', 'r')\n",
    "positions = list(map(int, f.readline().strip().split(\",\")))\n",
    "positions_mean = [math.floor(statistics.mean(positions)), math.ceil(statistics.mean(positions))]\n",
    "\n",
    "def get_cheapest(positions_mean, positions):\n",
    "    total_cost = sys.maxsize\n",
    "\n",
    "    for p in range(len(positions_mean)):\n",
    "        means = [positions_mean[p] for x in range(len(positions))]\n",
    "        diff = [abs(x-y) for x, y in zip(positions, means)]\n",
    "        cost = sum([sum(range(1, x+1)) for x in diff])\n",
    "        if cost < total_cost:\n",
    "            total_cost = cost\n",
    "    \n",
    "    return total_cost\n",
    "\n",
    "result_part2 = get_cheapest(positions_mean, positions) \n",
    "print('Part 2:', result_part2)"
   ]
  }
 ],
 "metadata": {
  "interpreter": {
   "hash": "c06aebc4e1607c4c63c6d41f9502d9be31a5a426dc00a7cb878aeb9bf6a69f96"
  },
  "kernelspec": {
   "display_name": "Python 3.10.0 64-bit ('aoc-env': conda)",
   "language": "python",
   "name": "python3"
  },
  "language_info": {
   "codemirror_mode": {
    "name": "ipython",
    "version": 3
   },
   "file_extension": ".py",
   "mimetype": "text/x-python",
   "name": "python",
   "nbconvert_exporter": "python",
   "pygments_lexer": "ipython3",
   "version": "3.10.0"
  },
  "orig_nbformat": 4
 },
 "nbformat": 4,
 "nbformat_minor": 2
}
