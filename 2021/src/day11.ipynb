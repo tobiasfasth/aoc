{
 "cells": [
  {
   "cell_type": "code",
   "execution_count": null,
   "metadata": {},
   "outputs": [],
   "source": [
    "def gen_matrix(str):\n",
    "    return list(map(int, list(str)))  \n",
    "\n",
    "\n",
    "def increase_adjacent(octipuses, r, o):\n",
    "    if o >= 0 and r >= 0 and r <= len(octipuses)-1 and o <= len(octipuses[r])-1:\n",
    "        if not has_flashed[r][o]:\n",
    "            octipuses[r][o] += 1\n",
    "\n",
    "\n",
    "f = open('../data/day11.txt', 'r')\n",
    "octipuses = list(map(gen_matrix, f.read().strip().split(\"\\n\")))\n",
    "has_flashed = [[False for x in octipuses[y]] for y, _ in enumerate(octipuses)]\n",
    "flashes = 0\n",
    "step = 0\n",
    "unsolved = True\n",
    "while unsolved:\n",
    "    octipuses = [[x+1 for x in octipuses[y]] for y, _ in enumerate(octipuses)]\n",
    "    has_flashed = [[False for x in octipuses[y]] for y, _ in enumerate(octipuses)]\n",
    "    flash = True\n",
    "    while flash:\n",
    "        flash = False\n",
    "        for r, row in enumerate(octipuses):\n",
    "            for o, oct in enumerate(row):\n",
    "                if oct > 9:\n",
    "                    octipuses[r][o] = 0\n",
    "                    has_flashed[r][o] = True\n",
    "                    flashes += 1\n",
    "                    flash = True\n",
    "                    increase_adjacent(octipuses, r-1, o-1)\n",
    "                    increase_adjacent(octipuses, r-1, o)\n",
    "                    increase_adjacent(octipuses, r-1, o+1)\n",
    "                    increase_adjacent(octipuses, r+1, o-1)\n",
    "                    increase_adjacent(octipuses, r+1, o)\n",
    "                    increase_adjacent(octipuses, r+1, o+1)\n",
    "                    increase_adjacent(octipuses, r, o-1)\n",
    "                    increase_adjacent(octipuses, r, o+1)\n",
    "    step +=1\n",
    "    if step == 100:\n",
    "        print(f\"Part 1:{flashes}\")\n",
    "    if sum(map(sum, octipuses)) == 0:\n",
    "        print(f\"Part 2:{step}\")\n",
    "        unsolved = False"
   ]
  }
 ],
 "metadata": {
  "interpreter": {
   "hash": "c06aebc4e1607c4c63c6d41f9502d9be31a5a426dc00a7cb878aeb9bf6a69f96"
  },
  "kernelspec": {
   "display_name": "Python 3.10.0 64-bit ('aoc-env': conda)",
   "language": "python",
   "name": "python3"
  },
  "language_info": {
   "codemirror_mode": {
    "name": "ipython",
    "version": 3
   },
   "file_extension": ".py",
   "mimetype": "text/x-python",
   "name": "python",
   "nbconvert_exporter": "python",
   "pygments_lexer": "ipython3",
   "version": "3.10.0"
  },
  "orig_nbformat": 4
 },
 "nbformat": 4,
 "nbformat_minor": 2
}
