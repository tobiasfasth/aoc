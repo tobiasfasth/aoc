{
 "cells": [
  {
   "cell_type": "code",
   "execution_count": null,
   "metadata": {},
   "outputs": [],
   "source": [
    "def gen_matrix(str):\n",
    "    return list(map(int, list(str)))    "
   ]
  },
  {
   "cell_type": "code",
   "execution_count": null,
   "metadata": {},
   "outputs": [],
   "source": [
    "# part 1\n",
    "f = open('../data/day09.txt', 'r')\n",
    "heightmap = list(map(gen_matrix, f.read().strip().split(\"\\n\")))\n",
    "\n",
    "def check_low_point(heightmap, r, c):\n",
    "    max_r = len(heightmap)-1\n",
    "    max_c = len(heightmap[0])-1\n",
    "    value = heightmap[r][c]\n",
    "    low_point = False\n",
    "    if c == 0 or value < heightmap[r][c-1]:\n",
    "        if c == max_c or value < heightmap[r][c+1]:\n",
    "            if r == 0 or value < heightmap[r-1][c]:\n",
    "                if r == max_r or value < heightmap[r+1][c]:\n",
    "                    low_point = True\n",
    "    return low_point\n",
    "\n",
    "risk_level = 0\n",
    "for r, row in enumerate(heightmap):\n",
    "    for c, cell in enumerate(row):\n",
    "        if check_low_point(heightmap, r, c):\n",
    "            risk_level += heightmap[r][c]+1\n",
    "\n",
    "print('Part 1:', risk_level)"
   ]
  },
  {
   "cell_type": "code",
   "execution_count": null,
   "metadata": {},
   "outputs": [],
   "source": [
    "# part 2\n",
    "import math\n",
    "\n",
    "f = open('../data/day09.txt', 'r')\n",
    "heightmap = list(map(gen_matrix, f.read().strip().split(\"\\n\")))\n",
    "\n",
    "def get_basin(heightmap, r, c):\n",
    "   max_row = len(heightmap)-1\n",
    "   max_cell = len(heightmap[0])-1\n",
    "   count = 1   \n",
    "   if heightmap[r][c] == 9 or heightmap[r][c] == -1:\n",
    "      return 0\n",
    "   heightmap[r][c] = -1\n",
    "   if r < max_row:\n",
    "      count += get_basin(heightmap, r+1, c)\n",
    "   if r > 0:\n",
    "      count += get_basin(heightmap, r-1, c)\n",
    "   if c < max_cell:\n",
    "      count += get_basin(heightmap, r, c+1)\n",
    "   if c > 0:\n",
    "      count += get_basin(heightmap, r, c-1)\n",
    "   return count\n",
    "\n",
    "basins = []\n",
    "for r, row in enumerate(heightmap):\n",
    "    for c, cell in enumerate(row):\n",
    "        if check_low_point(heightmap, r, c):\n",
    "            basin = get_basin(heightmap, r, c)\n",
    "            basins.append(basin)\n",
    "\n",
    "basins.sort()\n",
    "print('Part 2:', math.prod(basins[-3:]))"
   ]
  }
 ],
 "metadata": {
  "interpreter": {
   "hash": "c06aebc4e1607c4c63c6d41f9502d9be31a5a426dc00a7cb878aeb9bf6a69f96"
  },
  "kernelspec": {
   "display_name": "Python 3.10.0 64-bit ('aoc-env': conda)",
   "language": "python",
   "name": "python3"
  },
  "language_info": {
   "codemirror_mode": {
    "name": "ipython",
    "version": 3
   },
   "file_extension": ".py",
   "mimetype": "text/x-python",
   "name": "python",
   "nbconvert_exporter": "python",
   "pygments_lexer": "ipython3",
   "version": "3.10.0"
  },
  "orig_nbformat": 4
 },
 "nbformat": 4,
 "nbformat_minor": 2
}
