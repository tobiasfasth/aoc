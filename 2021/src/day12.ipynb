{
 "cells": [
  {
   "cell_type": "code",
   "execution_count": null,
   "metadata": {},
   "outputs": [],
   "source": [
    "f = open('../data/day12.txt')\n",
    "input = [x.split('-') for x in f.read().strip().split('\\n')]\n",
    "graph = []\n",
    "for n in input:\n",
    "    graph.append([n[0], n[1]])\n",
    "    graph.append([n[1], n[0]])"
   ]
  },
  {
   "cell_type": "code",
   "execution_count": null,
   "metadata": {},
   "outputs": [],
   "source": [
    "def find_paths(node, visited, graph):\n",
    "    n_paths = 0\n",
    "    if node == 'end':\n",
    "        return 1\n",
    "    \n",
    "    if node in visited:\n",
    "        return 0\n",
    "\n",
    "    if node.islower():\n",
    "        visited = visited | {node}\n",
    "\n",
    "    for n in graph:\n",
    "        if node == n[0]:\n",
    "            n_paths += find_paths(n[1], visited, graph)\n",
    "\n",
    "    return n_paths\n",
    "\n",
    "print(f\"Part 1: {find_paths('start', set(), graph)}\")"
   ]
  },
  {
   "cell_type": "code",
   "execution_count": null,
   "metadata": {},
   "outputs": [],
   "source": [
    "def find_paths(node, visited, twice, graph):\n",
    "    n_paths = 0\n",
    "    if node == 'end':\n",
    "        return 1\n",
    "    \n",
    "    if node in visited:\n",
    "        if node == 'start' or twice:\n",
    "            return 0\n",
    "        else:\n",
    "            twice = True\n",
    "\n",
    "    if node.islower():\n",
    "        visited = visited | {node}\n",
    "\n",
    "    for n in graph:\n",
    "        if node == n[0]:\n",
    "            n_paths += find_paths(n[1], visited, twice, graph)\n",
    "\n",
    "    return n_paths\n",
    "\n",
    "print(f\"Part 2: {find_paths('start', set(), False, graph)}\")"
   ]
  }
 ],
 "metadata": {
  "interpreter": {
   "hash": "c06aebc4e1607c4c63c6d41f9502d9be31a5a426dc00a7cb878aeb9bf6a69f96"
  },
  "kernelspec": {
   "display_name": "Python 3.10.0 64-bit ('aoc-env': conda)",
   "language": "python",
   "name": "python3"
  },
  "language_info": {
   "codemirror_mode": {
    "name": "ipython",
    "version": 3
   },
   "file_extension": ".py",
   "mimetype": "text/x-python",
   "name": "python",
   "nbconvert_exporter": "python",
   "pygments_lexer": "ipython3",
   "version": "3.10.0"
  },
  "orig_nbformat": 4
 },
 "nbformat": 4,
 "nbformat_minor": 2
}
