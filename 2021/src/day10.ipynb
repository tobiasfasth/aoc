{
 "cells": [
  {
   "cell_type": "code",
   "execution_count": null,
   "metadata": {},
   "outputs": [],
   "source": [
    "f = open('../data/day10.txt', 'r')\n",
    "lines = f.read().strip().split('\\n')\n",
    "matches = {')':'(',']':'[','}':'{','>':'<'}\n",
    "score = {')':3,']':57,'}':1197,'>':25137}\n",
    "total_scores = []\n",
    "\n",
    "for line in lines:\n",
    "    stack = []\n",
    "    for c in line:\n",
    "        if c in matches.values():\n",
    "            stack.append(c)\n",
    "        else:\n",
    "            popped = stack.pop()\n",
    "            if popped != matches[c]:\n",
    "                total_scores.append(score[c])\n",
    "                \n",
    "print(f\"Part 1: {sum(total_scores)}\")"
   ]
  },
  {
   "cell_type": "code",
   "execution_count": null,
   "metadata": {},
   "outputs": [],
   "source": [
    "import math\n",
    "\n",
    "f = open('../data/day10.txt', 'r')\n",
    "lines = f.read().strip().split('\\n')\n",
    "matches = {')':'(',']':'[','}':'{','>':'<'}\n",
    "scores_incomplete = {'(':1, '[':2, '{':3, '<':4}\n",
    "total_scores = []\n",
    "\n",
    "for line in lines:\n",
    "    stack = []\n",
    "    for chr in line:\n",
    "        if chr in matches.values():\n",
    "            stack.append(chr)\n",
    "        else:\n",
    "            popped = stack.pop()\n",
    "            if popped != matches[chr]:\n",
    "                stack = []\n",
    "                break\n",
    "    if stack != []:\n",
    "        total_score = 0\n",
    "        for x in reversed(stack):\n",
    "            total_score *= 5\n",
    "            total_score += scores_incomplete[x]\n",
    "        total_scores.append(total_score)\n",
    "\n",
    "total_scores.sort()\n",
    "print(f\"Part 2: {total_scores[len(total_scores)//2]}\")"
   ]
  },
  {
   "cell_type": "code",
   "execution_count": null,
   "metadata": {},
   "outputs": [],
   "source": []
  }
 ],
 "metadata": {
  "interpreter": {
   "hash": "c06aebc4e1607c4c63c6d41f9502d9be31a5a426dc00a7cb878aeb9bf6a69f96"
  },
  "kernelspec": {
   "display_name": "Python 3.10.0 64-bit ('aoc-env': conda)",
   "language": "python",
   "name": "python3"
  },
  "language_info": {
   "codemirror_mode": {
    "name": "ipython",
    "version": 3
   },
   "file_extension": ".py",
   "mimetype": "text/x-python",
   "name": "python",
   "nbconvert_exporter": "python",
   "pygments_lexer": "ipython3",
   "version": "3.10.0"
  },
  "orig_nbformat": 4
 },
 "nbformat": 4,
 "nbformat_minor": 2
}
