{
 "cells": [
  {
   "cell_type": "code",
   "execution_count": null,
   "metadata": {},
   "outputs": [],
   "source": [
    "f = open('../data/day05.txt')\n",
    "\n",
    "def order_data(str):\n",
    "    row = str.split(' -> ')\n",
    "    res = []\n",
    "    for r in row:\n",
    "        res.append(list(map(int, r.split(','))))\n",
    "    return res"
   ]
  },
  {
   "cell_type": "code",
   "execution_count": null,
   "metadata": {},
   "outputs": [],
   "source": [
    "def get_max(coordinates):\n",
    "    max_xy = 0\n",
    "    for c in coordinates:\n",
    "        max_tmp = max(c[0][0], c[1][0], c[0][1], c[1][1])\n",
    "        if max_tmp > max_xy:\n",
    "            max_xy = max_tmp\n",
    "    return max_xy"
   ]
  },
  {
   "cell_type": "code",
   "execution_count": null,
   "metadata": {},
   "outputs": [],
   "source": [
    "def gen_h_v_lines(coordinates):\n",
    "    x_vals = []\n",
    "    y_vals = []\n",
    "    if coordinates[0][0] == coordinates[1][0]:\n",
    "        first_y = coordinates[0][1]\n",
    "        second_y = coordinates[1][1]\n",
    "        y_vals = list(range(min(first_y, second_y), max(first_y, second_y)+1))\n",
    "        x_vals = [coordinates[1][0] for x in y_vals]\n",
    "    elif coordinates[0][1] == coordinates[1][1]:\n",
    "        first_x = coordinates[0][0]\n",
    "        second_x = coordinates[1][0]\n",
    "        x_vals = list(range(min(first_x, second_x), max(first_x, second_x)+1))\n",
    "        y_vals = [coordinates[1][1] for x in x_vals]\n",
    "\n",
    "    return list(zip(x_vals, y_vals))"
   ]
  },
  {
   "cell_type": "code",
   "execution_count": null,
   "metadata": {},
   "outputs": [],
   "source": [
    "def gen_h_v_d_lines(c):\n",
    "    x_vals = []\n",
    "    y_vals = []\n",
    "\n",
    "    if c[0][0] == c[1][0]:\n",
    "        first_y = c[0][1]\n",
    "        second_y = c[1][1]\n",
    "        y_vals = list(range(min(first_y, second_y), max(first_y, second_y)+1))\n",
    "        x_vals = [c[1][0] for x in y_vals]\n",
    "\n",
    "    elif c[0][1] == c[1][1]:\n",
    "        first_x = c[0][0]\n",
    "        second_x = c[1][0]\n",
    "        x_vals = list(range(min(first_x, second_x), max(first_x, second_x)+1))\n",
    "        y_vals = [c[1][1] for x in x_vals]\n",
    "\n",
    "    elif c[0][0] > c[1][0] and c[0][1] < c[1][1]:\n",
    "        x_vals = list(reversed(range(c[1][0], c[0][0]+1)))\n",
    "        y_vals = list(range(c[0][1], c[1][1]+1))\n",
    "\n",
    "    elif c[0][1] > c[1][1] and c[0][0] < c[1][0]:\n",
    "        x_vals = list(range(c[0][0], c[1][0]+1))\n",
    "        y_vals = list(reversed(range(c[1][1], c[0][1]+1)))\n",
    "\n",
    "    elif c[0][0] > c[1][0] and c[0][1] > c[1][1]:\n",
    "        x_vals = list(reversed(range(c[1][0], c[0][0]+1)))\n",
    "        y_vals = list(reversed(range(c[1][1], c[0][1]+1)))\n",
    "\n",
    "    elif c[0][0] < c[1][0] and c[0][1] < c[1][1]:\n",
    "        x_vals = list(range(c[0][0], c[1][0]+1))\n",
    "        y_vals = list(range(c[0][1], c[1][1]+1))\n",
    "    \n",
    "    return list(zip(x_vals, y_vals))"
   ]
  },
  {
   "cell_type": "code",
   "execution_count": null,
   "metadata": {},
   "outputs": [],
   "source": [
    "def fill_matrix(lines, max_xy):\n",
    "    matrix = [[0 for i in range(max_xy+1)] for j in range(max_xy+1)]\n",
    "    for l in lines:\n",
    "        if l != []:\n",
    "            for c in l:\n",
    "                x = c[0]\n",
    "                y = c[1]\n",
    "                matrix[y][x] += 1\n",
    "    return matrix\n",
    "\n",
    "\n",
    "def print_matrix(matrix):\n",
    "    for r in matrix:\n",
    "        print(r)\n",
    "\n",
    "\n",
    "def calc_points(matrix):\n",
    "    points = 0\n",
    "    for row in matrix:\n",
    "        for cell in row:\n",
    "            if cell >= 2:\n",
    "                points += 1\n",
    "    return points\n",
    "\n",
    "\n",
    "coordinates = list(map(order_data, f.read().split('\\n')))\n",
    "max_xy = get_max(coordinates)\n",
    "\n",
    "# part 1\n",
    "lines_part1 = list(map(gen_h_v_lines, coordinates))\n",
    "matrix_part1 = fill_matrix(lines_part1, max_xy)\n",
    "print('Part 1: ', calc_points(matrix_part1))\n",
    "\n",
    "# part 2\n",
    "lines_part2 = list(map(gen_h_v_d_lines, coordinates))\n",
    "matrix_part2 = fill_matrix(lines_part2, max_xy)\n",
    "print('Part 2: ', calc_points(matrix_part2))"
   ]
  }
 ],
 "metadata": {
  "interpreter": {
   "hash": "c06aebc4e1607c4c63c6d41f9502d9be31a5a426dc00a7cb878aeb9bf6a69f96"
  },
  "kernelspec": {
   "display_name": "Python 3.10.0 64-bit ('aoc-env': conda)",
   "language": "python",
   "name": "python3"
  },
  "language_info": {
   "codemirror_mode": {
    "name": "ipython",
    "version": 3
   },
   "file_extension": ".py",
   "mimetype": "text/x-python",
   "name": "python",
   "nbconvert_exporter": "python",
   "pygments_lexer": "ipython3",
   "version": "3.10.0"
  },
  "orig_nbformat": 4
 },
 "nbformat": 4,
 "nbformat_minor": 2
}
