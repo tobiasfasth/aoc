{
 "cells": [
  {
   "cell_type": "code",
   "execution_count": null,
   "metadata": {},
   "outputs": [],
   "source": [
    "import csv"
   ]
  },
  {
   "cell_type": "code",
   "execution_count": null,
   "metadata": {},
   "outputs": [],
   "source": [
    "# part 1\n",
    "horizontal = depth = 0\n",
    "\n",
    "with open('../data/day02.txt') as file:\n",
    "    csvreader = csv.reader(file, delimiter=' ')\n",
    "    for row in csvreader:\n",
    "        if row[0] == 'forward':\n",
    "            horizontal += int(row[1])\n",
    "        else:\n",
    "            if row[0] == 'down':\n",
    "                depth += int(row[1])\n",
    "            else:\n",
    "                depth -= int(row[1])\n",
    "\n",
    "\n",
    "result_part1 = horizontal * depth\n",
    "print(result_part1)"
   ]
  },
  {
   "cell_type": "code",
   "execution_count": null,
   "metadata": {},
   "outputs": [],
   "source": [
    "# part 2\n",
    "horizontal = depth = aim = 0\n",
    "\n",
    "with open('../data/day02.txt') as file:\n",
    "    csvreader = csv.reader(file, delimiter=' ')\n",
    "    for row in csvreader:\n",
    "        if row[0] == 'forward':\n",
    "            horizontal += int(row[1])\n",
    "            depth += aim * int(row[1])\n",
    "        else:\n",
    "            if row[0] == 'down':\n",
    "                aim += int(row[1])\n",
    "            else:\n",
    "                aim -= int(row[1])\n",
    "\n",
    "\n",
    "result_part2 = horizontal * depth\n",
    "print(result_part2)"
   ]
  },
  {
   "cell_type": "code",
   "execution_count": null,
   "metadata": {},
   "outputs": [],
   "source": [
    "# part 1 with match\n",
    "horizontal = depth = 0\n",
    "\n",
    "for x in open('../data/day02.txt', 'r'):\n",
    "    match x.split():\n",
    "        case ['forward', n]:\n",
    "            horizontal += int(n)\n",
    "        case 'up', n:\n",
    "            depth -= int(n)\n",
    "        case 'down', n:\n",
    "            depth += int(n)\n",
    "\n",
    "\n",
    "result_w_match = horizontal * depth\n",
    "print(result_w_match)"
   ]
  }
 ],
 "metadata": {
  "interpreter": {
   "hash": "c06aebc4e1607c4c63c6d41f9502d9be31a5a426dc00a7cb878aeb9bf6a69f96"
  },
  "kernelspec": {
   "display_name": "Python 3.10.0 64-bit ('aoc-env': conda)",
   "language": "python",
   "name": "python3"
  },
  "language_info": {
   "codemirror_mode": {
    "name": "ipython",
    "version": 3
   },
   "file_extension": ".py",
   "mimetype": "text/x-python",
   "name": "python",
   "nbconvert_exporter": "python",
   "pygments_lexer": "ipython3",
   "version": "3.10.0"
  },
  "orig_nbformat": 4
 },
 "nbformat": 4,
 "nbformat_minor": 2
}
