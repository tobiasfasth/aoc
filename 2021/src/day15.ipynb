{
 "cells": [
  {
   "cell_type": "code",
   "execution_count": null,
   "metadata": {},
   "outputs": [],
   "source": [
    "import heapq\n",
    "from collections import defaultdict\n",
    "\n",
    "def gen_matrix(str):\n",
    "    return list(map(int, list(str)))  \n",
    "\n",
    "f = open('../data/day15.txt', 'r')\n",
    "grid = list(map(gen_matrix, f.read().strip().split(\"\\n\")))"
   ]
  },
  {
   "cell_type": "code",
   "execution_count": null,
   "metadata": {},
   "outputs": [],
   "source": [
    "def neighbours(y, x, len_y, len_x):\n",
    "    adjacent = [(1,0), (0,1), (-1, 0), (0,-1)]\n",
    "    neighbours = []\n",
    "    for dy, dx in adjacent:\n",
    "        new_y = y+dy\n",
    "        new_x = x+dx\n",
    "        if new_y >= 0 and new_y <= len_y and new_x >= 0 and new_x <= len_x:\n",
    "            neighbours.append((new_y, new_x))\n",
    "    return neighbours"
   ]
  },
  {
   "cell_type": "code",
   "execution_count": null,
   "metadata": {},
   "outputs": [],
   "source": [
    "def dijkstra(grid, source, destination):\n",
    "    len_y, len_x = destination\n",
    "    dist = defaultdict(lambda: float('inf'), {source: 0})\n",
    "    queue = [(0, source)]\n",
    "\n",
    "    while queue:\n",
    "        cost, node = heapq.heappop(queue)\n",
    "        \n",
    "        if (node == destination):\n",
    "            return cost\n",
    "\n",
    "        for neigh in neighbours(*node, len_y, len_x):\n",
    "            ny, nx = neigh\n",
    "            new_cost = cost + grid[ny][nx]\n",
    "            if new_cost < dist[neigh]:\n",
    "                dist[neigh] = new_cost\n",
    "                heapq.heappush(queue, (new_cost, neigh))\n",
    "    \n",
    "print(f\"Part 1: {dijkstra(grid, (0,0), (len(grid)-1, len(grid[0])-1))}\")\n"
   ]
  },
  {
   "cell_type": "code",
   "execution_count": null,
   "metadata": {},
   "outputs": [],
   "source": [
    "f = open('../data/day15.txt', 'r')\n",
    "grid_exp = list(map(gen_matrix, f.read().strip().split(\"\\n\")))\n",
    "\n",
    "len_y, len_x = len(grid_exp), len(grid_exp[0])\n",
    "\n",
    "for _ in range(4):\n",
    "    for row in grid_exp[-len_x:]:\n",
    "        grid_exp.append([(y+1) if y < 9 else 1 for y in row])\n",
    "\n",
    "for _ in range(4):\n",
    "\tfor row in grid_exp:\n",
    "\t\trow.extend((x + 1) if x < 9 else 1 for x in row[-len_y:])\n",
    "\n",
    "print(f\"Part 2: {dijkstra(grid_exp, (0,0), (len(grid_exp)-1, len(grid_exp[0])-1))}\")"
   ]
  }
 ],
 "metadata": {
  "interpreter": {
   "hash": "c06aebc4e1607c4c63c6d41f9502d9be31a5a426dc00a7cb878aeb9bf6a69f96"
  },
  "kernelspec": {
   "display_name": "Python 3.10.0 64-bit ('aoc-env': conda)",
   "language": "python",
   "name": "python3"
  },
  "language_info": {
   "codemirror_mode": {
    "name": "ipython",
    "version": 3
   },
   "file_extension": ".py",
   "mimetype": "text/x-python",
   "name": "python",
   "nbconvert_exporter": "python",
   "pygments_lexer": "ipython3",
   "version": "3.10.0"
  },
  "orig_nbformat": 4
 },
 "nbformat": 4,
 "nbformat_minor": 2
}
