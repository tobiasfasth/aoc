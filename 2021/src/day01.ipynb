{
 "cells": [
  {
   "cell_type": "code",
   "execution_count": null,
   "metadata": {},
   "outputs": [],
   "source": [
    "import csv"
   ]
  },
  {
   "cell_type": "code",
   "execution_count": null,
   "metadata": {},
   "outputs": [],
   "source": [
    "measurements = []\n",
    "with open('../data/day01.txt') as file:\n",
    "    csvreader = csv.reader(file)\n",
    "    for row in csvreader:\n",
    "        measurements.append(int(row[0]))"
   ]
  },
  {
   "cell_type": "code",
   "execution_count": null,
   "metadata": {},
   "outputs": [],
   "source": [
    "# part 1\n",
    "count_part1 = 0\n",
    "for idx, val in enumerate(measurements, start=0):\n",
    "    if int(val) >= int(measurements[idx-1]):\n",
    "        count_part1 = count_part1+1\n",
    "\n",
    "print(count_part1)"
   ]
  },
  {
   "cell_type": "code",
   "execution_count": null,
   "metadata": {},
   "outputs": [],
   "source": [
    "# part 2\n",
    "count_part2 = 0\n",
    "for idx, val in enumerate(measurements, start=0):\n",
    "    if idx+4 <= 2000:\n",
    "        if sum(measurements[idx:idx+3]) < sum(measurements[idx+1:idx+4]):\n",
    "            count_part2 = count_part2+1\n",
    "\n",
    "print(count_part2)"
   ]
  },
  {
   "cell_type": "code",
   "execution_count": null,
   "metadata": {},
   "outputs": [],
   "source": [
    "# cleaner\n",
    "part1 = sum(x < y for x, y in zip(measurements, measurements[1:]))\n",
    "part2 = sum(x < y for x, y in zip(measurements, measurements[3:]))\n",
    "\n",
    "print(part1)\n",
    "print(part2)"
   ]
  }
 ],
 "metadata": {
  "interpreter": {
   "hash": "c06aebc4e1607c4c63c6d41f9502d9be31a5a426dc00a7cb878aeb9bf6a69f96"
  },
  "kernelspec": {
   "display_name": "Python 3.10.0 64-bit ('aoc-env': conda)",
   "language": "python",
   "name": "python3"
  },
  "language_info": {
   "codemirror_mode": {
    "name": "ipython",
    "version": 3
   },
   "file_extension": ".py",
   "mimetype": "text/x-python",
   "name": "python",
   "nbconvert_exporter": "python",
   "pygments_lexer": "ipython3",
   "version": "3.10.0"
  },
  "orig_nbformat": 4
 },
 "nbformat": 4,
 "nbformat_minor": 2
}
