{
 "cells": [
  {
   "cell_type": "code",
   "execution_count": null,
   "metadata": {},
   "outputs": [],
   "source": [
    "f = open('../data/day13.txt', 'r')\n",
    "data = f.read().split('\\n\\n')\n",
    "coor_lines = data[0].split('\\n')\n",
    "\n",
    "coordinates = []\n",
    "for line in coor_lines:\n",
    "    coordinates.append(list(map(int,line.split(','))))\n",
    "\n",
    "max_x = 0\n",
    "max_y = 0\n",
    "for pair in coordinates:\n",
    "    if pair[0] > max_x:\n",
    "        max_x = pair[0]\n",
    "    if pair[1] > max_y:\n",
    "        max_y = pair[1]\n",
    "\n",
    "matrix = [ [ '.' for i in range(max_x+1) ] for j in range(max_y+1) ]\n",
    "\n",
    "for pair in coordinates:\n",
    "    x = pair[0]\n",
    "    y = pair[1]\n",
    "    matrix[y][x] = 1 \n",
    "\n",
    "instr_lines = data[1].split('\\n')\n",
    "instructions = []\n",
    "for l, _ in enumerate(instr_lines):\n",
    "    tmp_instr = (instr_lines[l].split(' '))[2].split('=')\n",
    "    instructions.append([tmp_instr[0], int(tmp_instr[1])])"
   ]
  },
  {
   "cell_type": "code",
   "execution_count": null,
   "metadata": {},
   "outputs": [],
   "source": [
    "def fold_coordinates(instruction, coordinates, matrix):\n",
    "    new_coordinates = []\n",
    "    for pair in coordinates:\n",
    "        if instruction[0] == 'x':\n",
    "            if pair[0] > instruction[1]:\n",
    "                new_coordinate = instruction[1] - (pair[0]-instruction[1])\n",
    "                new_coordinates.append([new_coordinate, pair[1]])\n",
    "            elif pair[0] < instruction[1]:\n",
    "                new_coordinates.append(pair)\n",
    "        elif instruction[0] == 'y':\n",
    "            if pair[1] > instruction[1]:\n",
    "                new_coordinate = instruction[1] - (pair[1]-instruction[1])\n",
    "                new_coordinates.append([pair[0], new_coordinate])\n",
    "            elif pair[1] < instruction[1]:\n",
    "                new_coordinates.append(pair)\n",
    "\n",
    "    return new_coordinates"
   ]
  },
  {
   "cell_type": "code",
   "execution_count": null,
   "metadata": {},
   "outputs": [],
   "source": [
    "def fold_matrix(instruction, matrix):\n",
    "    if instruction[0] == 'x':\n",
    "        tmp_matrix = []\n",
    "        for row in matrix:\n",
    "            tmp_matrix.append(row[:instruction[1]])\n",
    "        matrix = tmp_matrix\n",
    "    elif instruction[0] == 'y':\n",
    "        matrix = matrix[:instruction[1]]\n",
    "    return matrix"
   ]
  },
  {
   "cell_type": "code",
   "execution_count": null,
   "metadata": {},
   "outputs": [],
   "source": [
    "def plot_coordinates(coordinates, matrix):\n",
    "    for pair in coordinates:\n",
    "        x = pair[0]\n",
    "        y = pair[1]\n",
    "        if len(matrix) == y:\n",
    "            pass\n",
    "        else:\n",
    "            matrix[y][x] = '#' \n",
    "    return matrix"
   ]
  },
  {
   "cell_type": "code",
   "execution_count": null,
   "metadata": {},
   "outputs": [],
   "source": [
    "# Part 1\n",
    "coordinates = fold_coordinates(instructions[0], coordinates, matrix)\n",
    "matrix = fold_matrix(instructions[0], matrix)\n",
    "matrix = plot_coordinates(coordinates, matrix)\n",
    "counter = 0\n",
    "for row in matrix:\n",
    "    for c in row:\n",
    "        if c == '#':\n",
    "            counter += 1\n",
    "\n",
    "print(f\"Part 1: {counter}\")"
   ]
  },
  {
   "cell_type": "code",
   "execution_count": null,
   "metadata": {},
   "outputs": [],
   "source": [
    "# Part 2\n",
    "for i, _ in enumerate(instructions):\n",
    "    coordinates = fold_coordinates(instructions[i], coordinates, matrix)\n",
    "    matrix = fold_matrix(instructions[i], matrix)\n",
    "    matrix = plot_coordinates(coordinates, matrix)\n",
    "\n",
    "count = 0\n",
    "for l in matrix:\n",
    "    for r in l:\n",
    "        if r == 1:\n",
    "            count += 1\n",
    "\n",
    "print('Part 2:')\n",
    "for l in matrix:\n",
    "    print(l)"
   ]
  }
 ],
 "metadata": {
  "interpreter": {
   "hash": "c06aebc4e1607c4c63c6d41f9502d9be31a5a426dc00a7cb878aeb9bf6a69f96"
  },
  "kernelspec": {
   "display_name": "Python 3.10.0 64-bit ('aoc-env': conda)",
   "language": "python",
   "name": "python3"
  },
  "language_info": {
   "codemirror_mode": {
    "name": "ipython",
    "version": 3
   },
   "file_extension": ".py",
   "mimetype": "text/x-python",
   "name": "python",
   "nbconvert_exporter": "python",
   "pygments_lexer": "ipython3",
   "version": "3.10.0"
  },
  "orig_nbformat": 4
 },
 "nbformat": 4,
 "nbformat_minor": 2
}
