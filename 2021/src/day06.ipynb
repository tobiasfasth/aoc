{
 "cells": [
  {
   "cell_type": "code",
   "execution_count": null,
   "metadata": {},
   "outputs": [],
   "source": [
    "# part 1\n",
    "f = open('../data/day06.txt', 'r')\n",
    "ages = list(map(int, f.readline().strip().split(\",\")))\n",
    "\n",
    "for day in range(80):\n",
    "    for a, age in enumerate(ages):\n",
    "        if age == 0:\n",
    "            ages[a] = 6\n",
    "            ages.append(9)\n",
    "        else:\n",
    "            ages[a] -= 1\n",
    "\n",
    "print('Part 1', len(ages))"
   ]
  },
  {
   "cell_type": "code",
   "execution_count": null,
   "metadata": {},
   "outputs": [],
   "source": [
    "# part 2\n",
    "f = open('../data/day06.txt', 'r')\n",
    "fish = list(map(int, f.readline().strip().split(\",\")))\n",
    "ages = [0 for x in range(9)]\n",
    "\n",
    "for f in fish:\n",
    "    ages[f] +=1\n",
    "\n",
    "for day in range(256):\n",
    "    new_born = ages[0]\n",
    "    for a in range(1, len(ages)):\n",
    "        ages[a-1] = ages[a]\n",
    "    ages[-1] = new_born\n",
    "    ages[6] += new_born\n",
    "\n",
    "print('Part 2:', sum(x for x in ages))"
   ]
  }
 ],
 "metadata": {
  "interpreter": {
   "hash": "c06aebc4e1607c4c63c6d41f9502d9be31a5a426dc00a7cb878aeb9bf6a69f96"
  },
  "kernelspec": {
   "display_name": "Python 3.10.0 64-bit ('aoc-env': conda)",
   "language": "python",
   "name": "python3"
  },
  "language_info": {
   "codemirror_mode": {
    "name": "ipython",
    "version": 3
   },
   "file_extension": ".py",
   "mimetype": "text/x-python",
   "name": "python",
   "nbconvert_exporter": "python",
   "pygments_lexer": "ipython3",
   "version": "3.10.0"
  },
  "orig_nbformat": 4
 },
 "nbformat": 4,
 "nbformat_minor": 2
}
